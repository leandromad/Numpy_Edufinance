{
 "cells": [
  {
   "cell_type": "code",
   "execution_count": 1,
   "id": "72a56e41",
   "metadata": {},
   "outputs": [],
   "source": [
    "import numpy as np"
   ]
  },
  {
   "cell_type": "code",
   "execution_count": 2,
   "id": "273c7768",
   "metadata": {},
   "outputs": [
    {
     "name": "stdout",
     "output_type": "stream",
     "text": [
      "[20 21 22 23 24  0  1  2  3  4  5  6  7  8  9 10 11 12 13 14]\n"
     ]
    }
   ],
   "source": [
    "# Juntar dois arrays\n",
    "\n",
    "array1 = np.arange(20, 25)\n",
    "array2 = np.arange(15)\n",
    "\n",
    "array_completo = np.concatenate([array1, array2])\n",
    "\n",
    "print(array_completo)"
   ]
  },
  {
   "cell_type": "code",
   "execution_count": 3,
   "id": "fb40f7d7",
   "metadata": {},
   "outputs": [
    {
     "name": "stdout",
     "output_type": "stream",
     "text": [
      "[20 21 22 23 24]\n",
      "[ 0  1  2  3  4  5  6  7  8  9 10 11 12 13 14]\n"
     ]
    }
   ],
   "source": [
    "# Separando em dois arrays\n",
    "\n",
    "array_separado1, array_separado2 = np.split(array_completo, [5])\n",
    "\n",
    "print(array_separado1)\n",
    "print(array_separado2)"
   ]
  },
  {
   "cell_type": "code",
   "execution_count": 4,
   "id": "b9a0288c",
   "metadata": {},
   "outputs": [
    {
     "name": "stdout",
     "output_type": "stream",
     "text": [
      "[  20   21   22 3000   23   24    0    1    2    3    4    5    6    7\n",
      "    8    9   10   11   12   13   14 2000]\n"
     ]
    }
   ],
   "source": [
    "# Colocar novos dados em um array\n",
    "\n",
    "array_completo = np.append(array_completo, 2000)\n",
    "\n",
    "array_completo = np.insert(array_completo, 3, 3000)\n",
    "\n",
    "print(array_completo)"
   ]
  },
  {
   "cell_type": "code",
   "execution_count": 5,
   "id": "1be9b0af",
   "metadata": {},
   "outputs": [
    {
     "name": "stdout",
     "output_type": "stream",
     "text": [
      "[  20   21   22 3000   23   24    0    1    2    3    4    5    6    7\n",
      "    8    9   10   11   12   13   14]\n"
     ]
    }
   ],
   "source": [
    "# Deletar dados de um array\n",
    "\n",
    "array_completo = np.delete(array_completo, -1)\n",
    "\n",
    "print(array_completo)"
   ]
  },
  {
   "cell_type": "code",
   "execution_count": 6,
   "id": "50262f94",
   "metadata": {},
   "outputs": [
    {
     "name": "stdout",
     "output_type": "stream",
     "text": [
      "[[0 1 2]\n",
      " [3 4 5]\n",
      " [6 7 8]]\n"
     ]
    }
   ],
   "source": [
    "# Reshap\n",
    "\n",
    "array_3x3 = np.arange(9).reshape(3,3) #Isso aqui é util na hora de fazer regressão linear\n",
    "\n",
    "print(array_3x3)"
   ]
  },
  {
   "cell_type": "code",
   "execution_count": 7,
   "id": "e97d7be5",
   "metadata": {},
   "outputs": [
    {
     "name": "stdout",
     "output_type": "stream",
     "text": [
      "[  0   0   0   0   0   0   0   0   0   0   0 675  75 465]\n"
     ]
    }
   ],
   "source": [
    "# Trocando números dentro de uma condição\n",
    "\n",
    "array_inicial = np.array([4,4,4,4,7,6,5,32,13,2,32,675,75,465])\n",
    "\n",
    "# Como trocar todos os numeros menores que 40 por 0?\n",
    "\n",
    "array_inicial[array_inicial < 40] = 0\n",
    "\n",
    "print(array_inicial)"
   ]
  },
  {
   "cell_type": "code",
   "execution_count": 14,
   "id": "96ec6c0a",
   "metadata": {},
   "outputs": [
    {
     "name": "stdout",
     "output_type": "stream",
     "text": [
      "[    3     5    20   349  3249 12490 23109] [23109 12490  3249   349    20     5     3]\n"
     ]
    }
   ],
   "source": [
    "# Como ordenar objetos dentro de uma lista?\n",
    "\n",
    "array_desordenado = np.array([23109, 3249, 349, 20, 3, 5, 12490])\n",
    "\n",
    "array_crescente = np.sort(array_desordenado)\n",
    "array_decrescente = -np.sort(-array_desordenado)\n",
    "\n",
    "print(array_crescente, array_decrescente)"
   ]
  },
  {
   "cell_type": "markdown",
   "id": "a1e6666a",
   "metadata": {},
   "source": [
    "# Exercício\n",
    "\n",
    "- Exercício 34: Peça ao usuário para digitar o lucro da Petrobras, Vale e Weg. Mostre os lucros em ordem do maior para o menor"
   ]
  },
  {
   "cell_type": "code",
   "execution_count": 18,
   "id": "d7333ace",
   "metadata": {},
   "outputs": [
    {
     "name": "stdout",
     "output_type": "stream",
     "text": [
      "Digite o lucro da Petrobras: 20\n",
      "Digite o lucro da Vale: 50\n",
      "Digite o lucro da Weg: 80\n",
      "Lucro das empresas, do maior para o menor: [80. 50. 20.]\n"
     ]
    }
   ],
   "source": [
    "empresas = np.array(['Petrobras','Vale','Weg'])\n",
    "\n",
    "array_lucros = np.array([])\n",
    "\n",
    "for empresa in empresas:\n",
    "    \n",
    "    lucro = float(input(f\"Digite o lucro da {empresa}: \"))\n",
    "    array_lucros = np.append(array_lucros, lucro)\n",
    "    \n",
    "array_lucros_decrescente = -np.sort(-array_lucros)\n",
    "\n",
    "print(f'Lucro das empresas, do maior para o menor: {array_lucros_decrescente}')"
   ]
  },
  {
   "cell_type": "code",
   "execution_count": null,
   "id": "8b7c7ab9",
   "metadata": {},
   "outputs": [],
   "source": []
  }
 ],
 "metadata": {
  "kernelspec": {
   "display_name": "Python 3 (ipykernel)",
   "language": "python",
   "name": "python3"
  },
  "language_info": {
   "codemirror_mode": {
    "name": "ipython",
    "version": 3
   },
   "file_extension": ".py",
   "mimetype": "text/x-python",
   "name": "python",
   "nbconvert_exporter": "python",
   "pygments_lexer": "ipython3",
   "version": "3.9.13"
  }
 },
 "nbformat": 4,
 "nbformat_minor": 5
}
