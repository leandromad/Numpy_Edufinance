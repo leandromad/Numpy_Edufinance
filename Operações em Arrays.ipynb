{
 "cells": [
  {
   "cell_type": "code",
   "execution_count": 38,
   "id": "be64b7dc",
   "metadata": {},
   "outputs": [],
   "source": [
    "import numpy as np"
   ]
  },
  {
   "cell_type": "code",
   "execution_count": 39,
   "id": "599eb94c",
   "metadata": {},
   "outputs": [
    {
     "name": "stdout",
     "output_type": "stream",
     "text": [
      "[5 3 7 3]\n",
      "[1, 1, 1, 1, 4, 2, 6, 2]\n"
     ]
    }
   ],
   "source": [
    "array1 = np.array([1,1,1,1])\n",
    "array2 = np.array([4,2,6,2])\n",
    "array3 = np.array([2,2])\n",
    "\n",
    "lista_normal = [1,1,1,1]\n",
    "lista_normal2 = [4,2,6,2]\n",
    "\n",
    "print(array1 + array2)\n",
    "\n",
    "print(lista_normal + lista_normal2)"
   ]
  },
  {
   "cell_type": "code",
   "execution_count": 40,
   "id": "4d757af5",
   "metadata": {},
   "outputs": [
    {
     "ename": "ValueError",
     "evalue": "operands could not be broadcast together with shapes (4,) (2,) ",
     "output_type": "error",
     "traceback": [
      "\u001b[1;31m---------------------------------------------------------------------------\u001b[0m",
      "\u001b[1;31mValueError\u001b[0m                                Traceback (most recent call last)",
      "\u001b[1;32m~\\AppData\\Local\\Temp\\ipykernel_14700\\254612342.py\u001b[0m in \u001b[0;36m<module>\u001b[1;34m\u001b[0m\n\u001b[1;32m----> 1\u001b[1;33m \u001b[0mprint\u001b[0m\u001b[1;33m(\u001b[0m\u001b[0marray1\u001b[0m \u001b[1;33m+\u001b[0m \u001b[0marray3\u001b[0m\u001b[1;33m)\u001b[0m \u001b[1;31m#Arrays de tamanhos diferentes retornam erro\u001b[0m\u001b[1;33m\u001b[0m\u001b[1;33m\u001b[0m\u001b[0m\n\u001b[0m",
      "\u001b[1;31mValueError\u001b[0m: operands could not be broadcast together with shapes (4,) (2,) "
     ]
    }
   ],
   "source": [
    "print(array1 + array3) #Arrays de tamanhos diferentes retornam erro"
   ]
  },
  {
   "cell_type": "code",
   "execution_count": 41,
   "id": "750b554c",
   "metadata": {},
   "outputs": [
    {
     "name": "stdout",
     "output_type": "stream",
     "text": [
      "[21 21 21 21]\n"
     ]
    }
   ],
   "source": [
    "# E se eu quiser somar um número só?\n",
    "\n",
    "soma_a_todos_os_elementos = np.array([1,1,1,1]) + 20\n",
    "\n",
    "print(soma_a_todos_os_elementos)"
   ]
  },
  {
   "cell_type": "code",
   "execution_count": 42,
   "id": "f1e564c5",
   "metadata": {},
   "outputs": [
    {
     "name": "stdout",
     "output_type": "stream",
     "text": [
      "[-3 -1 -5 -1]\n",
      "[0.25       0.5        0.16666667 0.5       ]\n",
      "[4 2 6 2]\n",
      "[1 1 1 1]\n"
     ]
    }
   ],
   "source": [
    "# Todas as operações funcionam normal\n",
    "\n",
    "subtracao = array1 - array2\n",
    "divisao = array1/array2\n",
    "multiplicacao = array1 * array2\n",
    "exponenciacao = array1 ** array2\n",
    "\n",
    "print(subtracao)\n",
    "print(divisao)\n",
    "print(multiplicacao)\n",
    "print(exponenciacao)"
   ]
  },
  {
   "cell_type": "code",
   "execution_count": 43,
   "id": "afff07ed",
   "metadata": {},
   "outputs": [
    {
     "name": "stdout",
     "output_type": "stream",
     "text": [
      "[ 1  4 -4 -1  2]\n",
      "2\n",
      "4\n",
      "-4\n",
      "[1 4 4 1 2]\n"
     ]
    }
   ],
   "source": [
    "# Operações dentro do próprio vetor\n",
    "\n",
    "vetor = np.array([1,4,-4,-1,2])\n",
    "\n",
    "print(vetor)\n",
    "print(vetor.sum())\n",
    "print(vetor.max())\n",
    "print(vetor.min())\n",
    "print(np.abs(vetor))"
   ]
  },
  {
   "cell_type": "code",
   "execution_count": 44,
   "id": "265feaf1",
   "metadata": {},
   "outputs": [
    {
     "name": "stdout",
     "output_type": "stream",
     "text": [
      "401.0\n",
      "1.0\n",
      "799.56938410622\n",
      "639311.2\n"
     ]
    }
   ],
   "source": [
    "# Estatísticas descritivas\n",
    "\n",
    "vetor = np.array([1,20,-4,-12,2000])\n",
    "\n",
    "media = np.mean(vetor)\n",
    "mediana = np.median(vetor)\n",
    "desvio_p = np.std(vetor)\n",
    "var = np.var(vetor)\n",
    "\n",
    "print(media)\n",
    "print(mediana)\n",
    "print(desvio_p)\n",
    "print(var)"
   ]
  },
  {
   "cell_type": "code",
   "execution_count": 45,
   "id": "88d7c84f",
   "metadata": {},
   "outputs": [
    {
     "name": "stdout",
     "output_type": "stream",
     "text": [
      "[[ 1.          0.25471058 -0.13247913]\n",
      " [ 0.25471058  1.          0.76783876]\n",
      " [-0.13247913  0.76783876  1.        ]]\n"
     ]
    }
   ],
   "source": [
    "# Matriz de correlação\n",
    "\n",
    "vetor2 = np.array([5,4,3,-5,4])\n",
    "vetor3 = np.array([2,6,7,-5,1])\n",
    "\n",
    "correlacao = np.corrcoef((vetor,vetor2,vetor3))\n",
    "\n",
    "print(correlacao)"
   ]
  },
  {
   "cell_type": "markdown",
   "id": "1e977d82",
   "metadata": {},
   "source": [
    "# Exercício\n",
    "\n",
    "- Exercício 35: Faça um programa que o usuário digite a rentabilidade de ações, com quantas ações o usuário quiser. Transforme essas listas em arrays e devolva pro usuário:\n",
    "\n",
    "    - A média de rentabilidade da carteira\n",
    "    - O desvio padrão da carteira.\n",
    "    - A mediana de retornos da carteira.\n",
    "    - O maior retorno.\n",
    "    - O menor retorno."
   ]
  },
  {
   "cell_type": "code",
   "execution_count": 53,
   "id": "89e21a9a",
   "metadata": {},
   "outputs": [
    {
     "name": "stdout",
     "output_type": "stream",
     "text": [
      "Digite uma rentabilidade: 0.2\n",
      "Deseja cadastrar mais rentabilidades? [S/N] sasdsdsda\n",
      "Por favor, digite um comando válido [S/N]: s\n",
      "Digite uma rentabilidade: 0.3\n",
      "Deseja cadastrar mais rentabilidades? [S/N] s\n",
      "Digite uma rentabilidade: 0.65\n",
      "Deseja cadastrar mais rentabilidades? [S/N] n\n",
      "Aqui estão as estátisticas das rentabilidades\n",
      "Media: 38%\n",
      "Mediana: 30%\n",
      "Desvio Padrão: 19%\n",
      "Rentabilidade Máxima: 65%\n",
      "Rentabilidade Mínima: 20%\n"
     ]
    }
   ],
   "source": [
    "# Exercício 35\n",
    "\n",
    "import numpy as np\n",
    "\n",
    "array_rentabilidades = np.array([])\n",
    "\n",
    "mais_rentabilidade = True\n",
    "while mais_rentabilidade:\n",
    "    \n",
    "    \n",
    "    \n",
    "    rentabilidade = float(input(\"Digite uma rentabilidade: \"))\n",
    "    \n",
    "    array_rentabilidades = np.append(array_rentabilidades, rentabilidade)\n",
    "\n",
    "    continuar = input(\"Deseja cadastrar mais rentabilidades? [S/N] \")\n",
    "    \n",
    "    if continuar != 'n' and continuar != 's':\n",
    "        invalido = True\n",
    "        \n",
    "        while invalido:\n",
    "            \n",
    "            continuar = input(\"Por favor, digite um comando válido [S/N]: \").lower()\n",
    "        \n",
    "            if (continuar == 's') or (continuar == 'n'):\n",
    "                break\n",
    "        \n",
    "    if continuar == \"n\":\n",
    "            break\n",
    "\n",
    "media = np.mean(array_rentabilidades)\n",
    "mediana = np.median(array_rentabilidades)\n",
    "desvio_p = np.std(array_rentabilidades)\n",
    "rentabilidade_max = np.max(array_rentabilidades)\n",
    "rentabilidade_min = np.min(array_rentabilidades)\n",
    "\n",
    "print(\"Aqui estão as estátisticas das rentabilidades\")\n",
    "print(f\"Media: {'{:.0%}'.format(media)}\")\n",
    "print(f\"Mediana: {'{:.0%}'.format(mediana)}\")\n",
    "print(f\"Desvio Padrão: {'{:.0%}'.format(desvio_p)}\")\n",
    "print(f\"Rentabilidade Máxima: {'{:.0%}'.format(rentabilidade_max)}\")\n",
    "print(f\"Rentabilidade Mínima: {'{:.0%}'.format(rentabilidade_min)}\")"
   ]
  }
 ],
 "metadata": {
  "kernelspec": {
   "display_name": "Python 3 (ipykernel)",
   "language": "python",
   "name": "python3"
  },
  "language_info": {
   "codemirror_mode": {
    "name": "ipython",
    "version": 3
   },
   "file_extension": ".py",
   "mimetype": "text/x-python",
   "name": "python",
   "nbconvert_exporter": "python",
   "pygments_lexer": "ipython3",
   "version": "3.9.13"
  }
 },
 "nbformat": 4,
 "nbformat_minor": 5
}
