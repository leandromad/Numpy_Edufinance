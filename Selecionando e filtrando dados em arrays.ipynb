{
 "cells": [
  {
   "cell_type": "code",
   "execution_count": 1,
   "id": "b24bd016",
   "metadata": {},
   "outputs": [],
   "source": [
    "import numpy as np"
   ]
  },
  {
   "cell_type": "code",
   "execution_count": 2,
   "id": "a1458897",
   "metadata": {},
   "outputs": [],
   "source": [
    "vetor = np.array([1,2,3,4,5,6,7,8,9])\n",
    "\n",
    "vetor2d = np.array([[1,2,3],[4,5,6],[7,8,9]])\n"
   ]
  },
  {
   "cell_type": "code",
   "execution_count": 3,
   "id": "fbe8828f",
   "metadata": {},
   "outputs": [
    {
     "name": "stdout",
     "output_type": "stream",
     "text": [
      "1\n",
      "[1 2]\n",
      "9\n",
      "7\n",
      "2\n"
     ]
    }
   ],
   "source": [
    "# Posições\n",
    "\n",
    "print(vetor[0])\n",
    "\n",
    "print(vetor[0:2])\n",
    "\n",
    "print(vetor[-1])\n",
    "\n",
    "print(vetor2d[2][0])\n",
    "\n",
    "print(vetor2d[0][1])"
   ]
  },
  {
   "cell_type": "code",
   "execution_count": 5,
   "id": "072d3dfb",
   "metadata": {},
   "outputs": [
    {
     "name": "stdout",
     "output_type": "stream",
     "text": [
      "[6 7 8 9]\n",
      "[2 4 6 8]\n",
      "[5]\n",
      "[4 5 6 7]\n"
     ]
    }
   ],
   "source": [
    "# Filtrando dados\n",
    "\n",
    "maior_que_5 = vetor[vetor > 5]\n",
    "\n",
    "somente_par = vetor[vetor % 2 == 0]\n",
    "\n",
    "igual_a_5 = vetor[vetor == 5]\n",
    "\n",
    "maior_que_3_menor_que_8 = vetor[(vetor > 3) & (vetor < 8)]\n",
    "\n",
    "print(maior_que_5)\n",
    "print(somente_par)\n",
    "print(igual_a_5)\n",
    "print(maior_que_3_menor_que_8)"
   ]
  },
  {
   "cell_type": "markdown",
   "id": "98d261e4",
   "metadata": {},
   "source": [
    "# Exercício\n",
    "\n",
    "- Exercício 33: Faça um programa que gere um vetor de retornos positivos positivos ou negativos entre -1 e 1 na quantidade de dias que o usuário escolher. Devolva um vetor dos retornos positivos, o primeiro e o último retorno\n"
   ]
  },
  {
   "cell_type": "code",
   "execution_count": 7,
   "id": "351845b6",
   "metadata": {},
   "outputs": [
    {
     "name": "stdout",
     "output_type": "stream",
     "text": [
      "Digite quantos retornos devem ser gerados: 5\n",
      "Os retornos positivos são [0.55745496 0.9816182  0.15118031]\n",
      "O primeiro retorno é -0.5107210635877892 e o último é -0.6062885040789607\n"
     ]
    }
   ],
   "source": [
    "quantitade_de_dias = int(input(\"Digite quantos retornos devem ser gerados: \"))\n",
    "vetor_aleatorio = np.random.uniform(-1, 1, quantitade_de_dias)\n",
    "somente_positivos = vetor_aleatorio[vetor_aleatorio > 0]\n",
    "primeiro = vetor_aleatorio[0]\n",
    "ultimo = vetor_aleatorio[-1]\n",
    "print(f\"Os retornos positivos são {somente_positivos}\")\n",
    "print(f\"O primeiro retorno é {primeiro} e o último é {ultimo}\")\n"
   ]
  }
 ],
 "metadata": {
  "kernelspec": {
   "display_name": "Python 3 (ipykernel)",
   "language": "python",
   "name": "python3"
  },
  "language_info": {
   "codemirror_mode": {
    "name": "ipython",
    "version": 3
   },
   "file_extension": ".py",
   "mimetype": "text/x-python",
   "name": "python",
   "nbconvert_exporter": "python",
   "pygments_lexer": "ipython3",
   "version": "3.9.13"
  }
 },
 "nbformat": 4,
 "nbformat_minor": 5
}
