{
 "cells": [
  {
   "cell_type": "code",
   "execution_count": 1,
   "id": "1028efc9",
   "metadata": {},
   "outputs": [],
   "source": [
    "import numpy as np"
   ]
  },
  {
   "cell_type": "code",
   "execution_count": 2,
   "id": "1f4b47d9",
   "metadata": {},
   "outputs": [],
   "source": [
    "vetor = np.array([1,2,3,4,5,6,7,8,9])\n",
    "\n",
    "vetor2d = np.array([[1,2,3],[4,5,6],[7,8,9]])\n"
   ]
  },
  {
   "cell_type": "code",
   "execution_count": 3,
   "id": "67ddef12",
   "metadata": {},
   "outputs": [
    {
     "name": "stdout",
     "output_type": "stream",
     "text": [
      "1\n",
      "[1 2]\n",
      "9\n",
      "7\n",
      "2\n"
     ]
    }
   ],
   "source": [
    "# Posições\n",
    "\n",
    "print(vetor[0])\n",
    "\n",
    "print(vetor[0:2])\n",
    "\n",
    "print(vetor[-1])\n",
    "\n",
    "print(vetor2d[2][0])\n",
    "\n",
    "print(vetor2d[0][1])"
   ]
  },
  {
   "cell_type": "code",
   "execution_count": 5,
   "id": "3f81d4e7",
   "metadata": {},
   "outputs": [
    {
     "name": "stdout",
     "output_type": "stream",
     "text": [
      "[6 7 8 9]\n",
      "[2 4 6 8]\n",
      "[5]\n",
      "[4 5 6 7]\n"
     ]
    }
   ],
   "source": [
    "# Filtrando dados\n",
    "\n",
    "maior_que_5 = vetor[vetor > 5]\n",
    "\n",
    "somente_par = vetor[vetor % 2 == 0]\n",
    "\n",
    "igual_a_5 = vetor[vetor == 5]\n",
    "\n",
    "maior_que_3_menor_que_8 = vetor[(vetor > 3) & (vetor < 8)]\n",
    "\n",
    "print(maior_que_5)\n",
    "print(somente_par)\n",
    "print(igual_a_5)\n",
    "print(maior_que_3_menor_que_8)"
   ]
  },
  {
   "cell_type": "markdown",
   "id": "54fa7338",
   "metadata": {},
   "source": [
    "# Exercício\n",
    "\n",
    "- Exercício 33: Faça um programa que gere um vetor de retornos positivos positivos ou negativos entre -1 e 1 na quantidade de dias que o usuário escolher. Devolva um vetor dos retornos positivos, o primeiro e o último retorno\n"
   ]
  },
  {
   "cell_type": "code",
   "execution_count": null,
   "id": "8c1ae075",
   "metadata": {},
   "outputs": [],
   "source": [
    "quantitade_de_dias = int(input(\"Digite quantos retornos devem ser gerados: \"))\n",
    "vetor_aleatorio = np.random.uniform(-1, 1, quantitade_de_dias)\n",
    "somente_positivos = vetor_aleatorio[vetor_aleatorio > 0]\n",
    "primeiro = vetor_aleatorio[0]\n",
    "ultimo = vetor_aleatorio[-1]\n",
    "print(\"Os retornos positivos são\")\n"
   ]
  }
 ],
 "metadata": {
  "kernelspec": {
   "display_name": "Python 3 (ipykernel)",
   "language": "python",
   "name": "python3"
  },
  "language_info": {
   "codemirror_mode": {
    "name": "ipython",
    "version": 3
   },
   "file_extension": ".py",
   "mimetype": "text/x-python",
   "name": "python",
   "nbconvert_exporter": "python",
   "pygments_lexer": "ipython3",
   "version": "3.9.13"
  }
 },
 "nbformat": 4,
 "nbformat_minor": 5
}
