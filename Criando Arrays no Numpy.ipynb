{
 "cells": [
  {
   "cell_type": "code",
   "execution_count": 1,
   "id": "0d54123f",
   "metadata": {},
   "outputs": [],
   "source": [
    "import numpy as np"
   ]
  },
  {
   "cell_type": "code",
   "execution_count": 2,
   "id": "12b04d07",
   "metadata": {},
   "outputs": [
    {
     "name": "stdout",
     "output_type": "stream",
     "text": [
      "[1 2 3 4]\n",
      "[1 2 3 4]\n"
     ]
    }
   ],
   "source": [
    "# a partir de uma lista ou tupla\n",
    "\n",
    "lista = [1,2,3,4]\n",
    "tupla = (1,2,3,4)\n",
    "\n",
    "array_a_partir_de_lista = np.array(lista)\n",
    "array_a_partir_de_tupla = np.array(tupla)\n",
    "\n",
    "print(array_a_partir_de_lista)\n",
    "print(array_a_partir_de_tupla)"
   ]
  },
  {
   "cell_type": "code",
   "execution_count": 3,
   "id": "5f19c4f0",
   "metadata": {},
   "outputs": [
    {
     "name": "stdout",
     "output_type": "stream",
     "text": [
      "[0 1 2 3 4 5 6 7 8 9] [10 20 30 40 50 60 70 80 90]\n"
     ]
    }
   ],
   "source": [
    "# Usando um range\n",
    "\n",
    "array_simples = np.arange(10)\n",
    "\n",
    "array_sequencial = np.arange(10,100,10)\n",
    "\n",
    "print(array_simples, array_sequencial)"
   ]
  },
  {
   "cell_type": "code",
   "execution_count": 4,
   "id": "f480654a",
   "metadata": {},
   "outputs": [
    {
     "name": "stdout",
     "output_type": "stream",
     "text": [
      "[0. 0. 0. 0. 0.] [1. 1. 1. 1. 1.]\n"
     ]
    }
   ],
   "source": [
    "# Criando arrays de zeros ou ums\n",
    "\n",
    "vetor_zero = np.zeros(5)\n",
    "vetor_um = np.ones(5)\n",
    "\n",
    "print(vetor_zero,vetor_um)"
   ]
  },
  {
   "cell_type": "code",
   "execution_count": 7,
   "id": "df52cfa3",
   "metadata": {},
   "outputs": [
    {
     "name": "stdout",
     "output_type": "stream",
     "text": [
      "[[0.55627672 0.84438366]\n",
      " [0.98380663 0.83597329]\n",
      " [0.74531303 0.02541735]]\n",
      "[5 7 9]\n",
      "[-1.94708263 -1.10164578  1.94118674]\n"
     ]
    }
   ],
   "source": [
    "# Criando vetores aleatórios\n",
    "\n",
    "vetor_aleatorio_entre_0_1 = np.random.rand(3,2)\n",
    "vetor_aleatorio_inteiro = np.random.randint(low = 0, high = 10, size = 3)\n",
    "vetor_aleatorio_com_negativos = np.random.uniform(-2, 2, 3)\n",
    "\n",
    "print(vetor_aleatorio_entre_0_1)\n",
    "print(vetor_aleatorio_inteiro)\n",
    "print(vetor_aleatorio_com_negativos)\n"
   ]
  },
  {
   "cell_type": "code",
   "execution_count": 8,
   "id": "606b8917",
   "metadata": {},
   "outputs": [
    {
     "name": "stdout",
     "output_type": "stream",
     "text": [
      "[[1 2 3]\n",
      " [4 5 6]]\n",
      "[[1 2 3]\n",
      " [4 5 6]\n",
      " [7 8 9]]\n"
     ]
    }
   ],
   "source": [
    "# Criando arrays bi ou tridimensionais\n",
    "\n",
    "lista1 = [1,2,3]\n",
    "lista2 = [4,5,6]\n",
    "lista3 = [7,8,9]\n",
    "\n",
    "array2d = np.array([lista1, lista2])\n",
    "\n",
    "array3d = np.array([lista1, lista2, lista3])\n",
    "\n",
    "print(array2d)\n",
    "print(array3d)"
   ]
  },
  {
   "cell_type": "code",
   "execution_count": 9,
   "id": "5a3663ec",
   "metadata": {},
   "outputs": [
    {
     "name": "stdout",
     "output_type": "stream",
     "text": [
      "[[20 30]\n",
      " [90 80]]\n"
     ]
    }
   ],
   "source": [
    "# criando matrízes\n",
    "\n",
    "matriz = np.matrix([[20,30],[90,80]])\n",
    "print(matriz)"
   ]
  },
  {
   "cell_type": "code",
   "execution_count": 10,
   "id": "f8a414fc",
   "metadata": {},
   "outputs": [
    {
     "name": "stdout",
     "output_type": "stream",
     "text": [
      "[1, 1, 1, 1, 1, 1, 1, 1]\n",
      "[2 2 2 2]\n"
     ]
    }
   ],
   "source": [
    "# Listas x numpy\n",
    "\n",
    "lista_1 = [1,1,1,1]\n",
    "lista_2 = [1,1,1,1]\n",
    "\n",
    "print(lista_1 + lista_2)\n",
    "print(np.array(lista_1) + np.array(lista_2))"
   ]
  },
  {
   "cell_type": "code",
   "execution_count": 19,
   "id": "044af3ad",
   "metadata": {},
   "outputs": [
    {
     "name": "stdout",
     "output_type": "stream",
     "text": [
      "17.52170239999998 0.2925738999999794\n",
      "Os vetores são 59.88812535910146 vezes mais rápidos.\n"
     ]
    }
   ],
   "source": [
    "# teste lista x numpy\n",
    "\n",
    "import timeit\n",
    "\n",
    "# Listas\n",
    "\n",
    "tempo_listas = timeit.timeit('''X = range(1000); Y = range(1000); [X[i] + Y[i] for i in range(len(X))]''',\n",
    "                            number = 100000)\n",
    "\n",
    "tempo_vetor = timeit.timeit('''X = np.arange(1000); Y = np.arange(1000); X + Y''',\n",
    "                            number = 100000, setup = 'import numpy as np')\n",
    "\n",
    "\n",
    "print(tempo_listas, tempo_vetor)\n",
    "print(f\"Os vetores são {tempo_listas/tempo_vetor} vezes mais rápidos.\")"
   ]
  },
  {
   "cell_type": "markdown",
   "id": "2ae0cccb",
   "metadata": {},
   "source": [
    "# Exercícios\n",
    "\n",
    "- Exercício 30: Peça pro usuário inputar a cotação de 3 ações, crie um Array de cotações."
   ]
  },
  {
   "cell_type": "code",
   "execution_count": 33,
   "id": "b779f49f",
   "metadata": {},
   "outputs": [
    {
     "name": "stdout",
     "output_type": "stream",
     "text": [
      "Digite o valor da cotação 1: 10.95\n",
      "Digite o valor da cotação 2: ab\n",
      "Erro de valor, insira uma nova cotação!\n",
      "Digite o valor da cotação 2: 12.35\n",
      "Digite o valor da cotação 3: 1.09\n",
      "[10.95 12.35  1.09]\n"
     ]
    }
   ],
   "source": [
    "# Exercício 30.\n",
    "\n",
    "from numpy import array\n",
    "\n",
    "lista_cotacoes = []\n",
    "i = 1\n",
    "while len(lista_cotacoes) < 3:\n",
    "    try:\n",
    "        cotacao = float(input(f\"Digite o valor da cotação {i}: \"))\n",
    "        lista_cotacoes.append(cotacao)\n",
    "        i+=1\n",
    "    except ValueError:\n",
    "        print(\"Erro de valor, insira uma nova cotação!\")\n",
    "            \n",
    "array_cotacoes = array(lista_cotacoes)\n",
    "print(array_cotacoes)"
   ]
  },
  {
   "cell_type": "code",
   "execution_count": 42,
   "id": "02a546c8",
   "metadata": {},
   "outputs": [
    {
     "name": "stdout",
     "output_type": "stream",
     "text": [
      "Insira o primeiro número: 10\n",
      "Insira o segundo número: 30\n",
      "[10 11 12 13 14 15 16 17 18 19 20 21 22 23 24 25 26 27 28 29]\n",
      "Obrigado por participar!\n"
     ]
    }
   ],
   "source": [
    "# Exercício 31:\n",
    "\n",
    "from numpy import arange\n",
    "\n",
    "try:\n",
    "    numero_1 = int(input(\"Insira o primeiro número: \"))\n",
    "    numero_2 = int(input(\"Insira o segundo número: \"))\n",
    "except ValueError:\n",
    "    print(\"Erro de valor! Programa terminado.\")\n",
    "else:\n",
    "    array_sequencial = arange(numero_1,numero_2)\n",
    "    print(array_sequencial)\n",
    "finally:\n",
    "    print(\"Obrigado por participar!\")\n",
    "\n"
   ]
  },
  {
   "cell_type": "code",
   "execution_count": 127,
   "id": "1e9d8654",
   "metadata": {},
   "outputs": [
    {
     "name": "stdout",
     "output_type": "stream",
     "text": [
      "Seguem os números da mega sena: [6, 22, 25, 36, 41, 49]. A probabilidade de vitória é de 83.22%\n"
     ]
    }
   ],
   "source": [
    "lista_numeros_sorteados = []\n",
    "while len(lista_numeros_sorteados) < 6:\n",
    "    valor_aleatorio = np.random.randint(low = 0, high = 61)\n",
    "    if valor_aleatorio not in lista_numeros_sorteados: \n",
    "        lista_numeros_sorteados.append(valor_aleatorio)\n",
    "\n",
    "lista_numeros_sorteados = sorted(lista_numeros_sorteados)\n",
    "\n",
    "probabilidade_vitoria = np.random.rand(1)[0]\n",
    "probabilidade_percentual = \"{:.2%}\".format(probabilidade_vitoria)\n",
    "print(f\"Seguem os números da mega sena: {lista_numeros_sorteados}. A probabilidade de vitória é de {probabilidade_percentual}\")\n"
   ]
  }
 ],
 "metadata": {
  "kernelspec": {
   "display_name": "Python 3 (ipykernel)",
   "language": "python",
   "name": "python3"
  },
  "language_info": {
   "codemirror_mode": {
    "name": "ipython",
    "version": 3
   },
   "file_extension": ".py",
   "mimetype": "text/x-python",
   "name": "python",
   "nbconvert_exporter": "python",
   "pygments_lexer": "ipython3",
   "version": "3.9.13"
  }
 },
 "nbformat": 4,
 "nbformat_minor": 5
}
