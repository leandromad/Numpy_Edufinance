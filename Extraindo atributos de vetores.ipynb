{
 "cells": [
  {
   "cell_type": "code",
   "execution_count": 4,
   "id": "aac2e984",
   "metadata": {},
   "outputs": [],
   "source": [
    "import numpy as np"
   ]
  },
  {
   "cell_type": "code",
   "execution_count": 5,
   "id": "03d634c0",
   "metadata": {},
   "outputs": [
    {
     "name": "stdout",
     "output_type": "stream",
     "text": [
      "[0 1 2 3 4 5 6 7 8 9]\n",
      "40\n",
      "4\n"
     ]
    }
   ],
   "source": [
    "array = np.arange(10)\n",
    "\n",
    "# A importância de ser homogêneo\n",
    "\n",
    "print(array)\n",
    "print(array.nbytes)\n",
    "print(array.itemsize)"
   ]
  },
  {
   "cell_type": "code",
   "execution_count": 6,
   "id": "e228c6c7",
   "metadata": {},
   "outputs": [
    {
     "name": "stdout",
     "output_type": "stream",
     "text": [
      "2\n",
      "(2, 3)\n"
     ]
    }
   ],
   "source": [
    "array2d = np.array([[1,2,3],[4,5,6]])\n",
    "\n",
    "# Número de dimensões\n",
    "\n",
    "print(array2d.ndim)\n",
    "\n",
    "print(array2d.shape)"
   ]
  },
  {
   "cell_type": "code",
   "execution_count": 7,
   "id": "65cb03e2",
   "metadata": {},
   "outputs": [
    {
     "name": "stdout",
     "output_type": "stream",
     "text": [
      "6\n",
      "2\n"
     ]
    }
   ],
   "source": [
    "# Tamanho do vetor\n",
    "\n",
    "print(array2d.size)\n",
    "\n",
    "print(len(array2d))\n",
    "\n",
    "# O importante dessa aula é entender a lógica dos atributos.\n",
    "# Sempre que você precisar de uma característica de um objeto, busque nos seus atributos"
   ]
  },
  {
   "cell_type": "markdown",
   "id": "853c22a9",
   "metadata": {},
   "source": [
    "Quando você utiliza parenteses é um método que muda o estado do objeto, no caso de um atributo, só queremos uma caracteristica, não necessitamos do parenteses"
   ]
  }
 ],
 "metadata": {
  "kernelspec": {
   "display_name": "Python 3 (ipykernel)",
   "language": "python",
   "name": "python3"
  },
  "language_info": {
   "codemirror_mode": {
    "name": "ipython",
    "version": 3
   },
   "file_extension": ".py",
   "mimetype": "text/x-python",
   "name": "python",
   "nbconvert_exporter": "python",
   "pygments_lexer": "ipython3",
   "version": "3.9.13"
  }
 },
 "nbformat": 4,
 "nbformat_minor": 5
}
